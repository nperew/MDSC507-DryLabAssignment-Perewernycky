{
 "cells": [
  {
   "cell_type": "markdown",
   "id": "895adf43",
   "metadata": {},
   "source": [
    "# Question 1\n"
   ]
  },
  {
   "cell_type": "code",
   "execution_count": null,
   "id": "c481ebf1",
   "metadata": {},
   "outputs": [],
   "source": []
  },
  {
   "cell_type": "markdown",
   "id": "65621033",
   "metadata": {},
   "source": [
    "# Question 2"
   ]
  },
  {
   "cell_type": "markdown",
   "id": "8dd47312",
   "metadata": {},
   "source": [
    "## A)\n",
    "\n",
    "Analyzing the reactions starting at K1, the ratio for K1/K1r is about 1, meaning that the rates of reaction are roughly equal between A and B. Seeing that K2 is also much greater than K1, all of the product from A/B will be turn to C very quickly. B is an intermediate and its levels will likely remain low. No amount of A will directly form C, but it is unclear if C will form A as K3 is not provided. This will affect how the system will behave at steady state."
   ]
  },
  {
   "cell_type": "code",
   "execution_count": null,
   "id": "d4281a5e",
   "metadata": {},
   "outputs": [],
   "source": [
    "import scipy "
   ]
  }
 ],
 "metadata": {
  "kernelspec": {
   "display_name": "Python 3",
   "language": "python",
   "name": "python3"
  },
  "language_info": {
   "codemirror_mode": {
    "name": "ipython",
    "version": 3
   },
   "file_extension": ".py",
   "mimetype": "text/x-python",
   "name": "python",
   "nbconvert_exporter": "python",
   "pygments_lexer": "ipython3",
   "version": "3.8.8"
  }
 },
 "nbformat": 4,
 "nbformat_minor": 5
}
